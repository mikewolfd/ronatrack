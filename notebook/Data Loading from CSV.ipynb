{
 "cells": [
  {
   "cell_type": "code",
   "execution_count": 1,
   "metadata": {},
   "outputs": [
    {
     "data": {
      "text/plain": [
       "<Survey: Survey object (1)>"
      ]
     },
     "execution_count": 1,
     "metadata": {},
     "output_type": "execute_result"
    }
   ],
   "source": [
    "o, _ = Survey.objects.get_or_create(name='Initial', version='0.1')\n",
    "o"
   ]
  },
  {
   "cell_type": "code",
   "execution_count": 12,
   "metadata": {},
   "outputs": [
    {
     "data": {
      "text/plain": [
       "<User: mikewolfd>"
      ]
     },
     "execution_count": 12,
     "metadata": {},
     "output_type": "execute_result"
    }
   ],
   "source": [
    "u, _ = User.objects.get_or_create(username='mikewolfd')\n",
    "u.set_password('temp')\n",
    "u.is_superuser = True\n",
    "u.is_active = True\n",
    "u.is_staff = True\n",
    "u.save()\n",
    "u"
   ]
  },
  {
   "cell_type": "code",
   "execution_count": 13,
   "metadata": {},
   "outputs": [],
   "source": [
    "import pandas as pd\n",
    "df = pd.read_csv('./question-set4.csv')\n",
    "questions = list(df.to_dict('index').values())"
   ]
  },
  {
   "cell_type": "code",
   "execution_count": 14,
   "metadata": {},
   "outputs": [],
   "source": [
    "fieldmap = {'boolean': BooleanAnswer.objects.get_or_create()[0], \n",
    " 'integer': IntAnswer.objects.get_or_create()[0], \n",
    " 'choice': MultipleChoiceAnswer.objects.get_or_create()[0],\n",
    " 'multiple choice': MultipleChoiceAnswer.objects.get_or_create()[0]\n",
    "}"
   ]
  },
  {
   "cell_type": "code",
   "execution_count": 19,
   "metadata": {},
   "outputs": [
    {
     "name": "stdout",
     "output_type": "stream",
     "text": [
      "{'Questions': 'What zipcode do you live in?', 'field': 'integer', 'catageory': 'Circumstantial '}\n",
      "{'Questions': 'Have you had Covid-19 symptoms?', 'field': 'boolean', 'catageory': 'Circumstantial '}\n",
      "{'Questions': 'Have you ever gotten tested for COVID-19?', 'field': 'boolean', 'catageory': 'Circumstantial '}\n",
      "{'Questions': 'Do you have underlying medical complications?', 'field': 'boolean', 'catageory': 'Circumstantial '}\n",
      "{'Questions': 'How often do you wear a mask?', 'field': 'choice', 'catageory': 'Behavioral'}\n",
      "{'Questions': 'How do you get your groceries?', 'field': 'multiple choice', 'catageory': 'Behavioral'}\n",
      "{'Questions': 'Do you carry around hand sanitizer?', 'field': 'boolean', 'catageory': 'Behavioral'}\n",
      "{'Questions': 'How many people do you live with?', 'field': 'integer', 'catageory': 'Circumstantial '}\n",
      "{'Questions': 'How many people does your household come into close contact within a week?', 'field': 'integer', 'catageory': 'Circumstantial '}\n",
      "{'Questions': 'How do you feel about your household covid precautions?', 'field': 'choice', 'catageory': 'Perceptual'}\n",
      "{'Questions': 'Do you have to go into work?', 'field': 'boolean', 'catageory': 'Circumstantial '}\n",
      "{'Questions': 'How often have you left your house in the past 2 weeks?', 'field': 'integer', 'catageory': 'Circumstantial '}\n",
      "{'Questions': 'How safe do you feel when you leave your home?', 'field': 'choice', 'catageory': 'Perceptual'}\n"
     ]
    }
   ],
   "source": [
    "q13 = []\n",
    "for q in questions:\n",
    "    q13.append(Question.objects.get_or_create(text=q.get('Questions'), catageory=Catageory.objects.get_or_create(name=q.get('catageory'))[0], choices=fieldmap[q.get('field')]))\n",
    "    print(q)"
   ]
  },
  {
   "cell_type": "code",
   "execution_count": 21,
   "metadata": {},
   "outputs": [
    {
     "data": {
      "text/plain": [
       "[(<Question: Question object (5)>, False),\n",
       " (<Question: Question object (6)>, False),\n",
       " (<Question: Question object (7)>, False),\n",
       " (<Question: Question object (8)>, False),\n",
       " (<Question: Question object (9)>, False),\n",
       " (<Question: Question object (10)>, False),\n",
       " (<Question: Question object (11)>, False),\n",
       " (<Question: Question object (12)>, False),\n",
       " (<Question: Question object (13)>, False),\n",
       " (<Question: Question object (14)>, False),\n",
       " (<Question: Question object (15)>, False),\n",
       " (<Question: Question object (16)>, False),\n",
       " (<Question: Question object (17)>, False)]"
      ]
     },
     "execution_count": 21,
     "metadata": {},
     "output_type": "execute_result"
    }
   ],
   "source": [
    "q13"
   ]
  },
  {
   "cell_type": "code",
   "execution_count": 25,
   "metadata": {},
   "outputs": [
    {
     "data": {
      "text/plain": [
       "[(<SurveyItem: SurveyItem object (4)>, False),\n",
       " (<SurveyItem: SurveyItem object (5)>, False),\n",
       " (<SurveyItem: SurveyItem object (6)>, False),\n",
       " (<SurveyItem: SurveyItem object (7)>, False),\n",
       " (<SurveyItem: SurveyItem object (8)>, False),\n",
       " (<SurveyItem: SurveyItem object (9)>, False),\n",
       " (<SurveyItem: SurveyItem object (10)>, False),\n",
       " (<SurveyItem: SurveyItem object (11)>, False),\n",
       " (<SurveyItem: SurveyItem object (12)>, False),\n",
       " (<SurveyItem: SurveyItem object (13)>, False),\n",
       " (<SurveyItem: SurveyItem object (14)>, False),\n",
       " (<SurveyItem: SurveyItem object (15)>, False),\n",
       " (<SurveyItem: SurveyItem object (16)>, False)]"
      ]
     },
     "execution_count": 25,
     "metadata": {},
     "output_type": "execute_result"
    }
   ],
   "source": [
    "s13 = []\n",
    "for i in q13:\n",
    "    s13.append(SurveyItem.objects.get_or_create(survey=o, question=i[0]))\n",
    "s13"
   ]
  },
  {
   "cell_type": "code",
   "execution_count": 2,
   "metadata": {},
   "outputs": [
    {
     "data": {
      "text/plain": [
       "{'_state': <django.db.models.base.ModelState at 0x7f93ef7a6a30>,\n",
       " 'id': 4,\n",
       " 'order': 1,\n",
       " 'question_id': 5,\n",
       " 'survey_id': 1,\n",
       " 'parent_id': None,\n",
       " 'lft': 1,\n",
       " 'rght': 2,\n",
       " 'tree_id': 1,\n",
       " 'level': 0,\n",
       " '_mptt_cached_fields': {'order': 1, 'parent': None}}"
      ]
     },
     "execution_count": 2,
     "metadata": {},
     "output_type": "execute_result"
    }
   ],
   "source": [
    "SurveyItem.objects.first().__dict__"
   ]
  },
  {
   "cell_type": "code",
   "execution_count": 7,
   "metadata": {},
   "outputs": [],
   "source": [
    "z = SurveyItem.objects.last()"
   ]
  },
  {
   "cell_type": "code",
   "execution_count": 13,
   "metadata": {},
   "outputs": [],
   "source": [
    "s = SurveyItem.objects.first()"
   ]
  },
  {
   "cell_type": "code",
   "execution_count": 8,
   "metadata": {},
   "outputs": [],
   "source": [
    "z.parent = s "
   ]
  },
  {
   "cell_type": "code",
   "execution_count": 9,
   "metadata": {},
   "outputs": [],
   "source": [
    "z.save()"
   ]
  },
  {
   "cell_type": "code",
   "execution_count": 15,
   "metadata": {},
   "outputs": [
    {
     "data": {
      "text/plain": [
       "{'_state': <django.db.models.base.ModelState at 0x7f94090b2100>,\n",
       " 'id': 16,\n",
       " 'order': 13,\n",
       " 'question_id': 17,\n",
       " 'survey_id': 1,\n",
       " 'parent_id': 4,\n",
       " 'lft': 2,\n",
       " 'rght': 3,\n",
       " 'tree_id': 1,\n",
       " 'level': 1,\n",
       " '_mptt_cached_fields': {'order': 13, 'parent': 4},\n",
       " '_mptt_saved': True}"
      ]
     },
     "execution_count": 15,
     "metadata": {},
     "output_type": "execute_result"
    }
   ],
   "source": [
    "z.__dict__"
   ]
  },
  {
   "cell_type": "code",
   "execution_count": 16,
   "metadata": {},
   "outputs": [
    {
     "data": {
      "text/plain": [
       "{'_state': <django.db.models.base.ModelState at 0x7f93edf56e20>,\n",
       " 'id': 4,\n",
       " 'order': 1,\n",
       " 'question_id': 5,\n",
       " 'survey_id': 1,\n",
       " 'parent_id': None,\n",
       " 'lft': 1,\n",
       " 'rght': 4,\n",
       " 'tree_id': 1,\n",
       " 'level': 0,\n",
       " '_mptt_cached_fields': {'order': 1, 'parent': None}}"
      ]
     },
     "execution_count": 16,
     "metadata": {},
     "output_type": "execute_result"
    }
   ],
   "source": [
    "s.__dict__"
   ]
  },
  {
   "cell_type": "code",
   "execution_count": 19,
   "metadata": {},
   "outputs": [
    {
     "data": {
      "text/plain": [
       "1"
      ]
     },
     "execution_count": 19,
     "metadata": {},
     "output_type": "execute_result"
    }
   ],
   "source": [
    "SurveyItem.objects.first().children.count()"
   ]
  },
  {
   "cell_type": "code",
   "execution_count": null,
   "metadata": {},
   "outputs": [],
   "source": []
  }
 ],
 "metadata": {
  "kernelspec": {
   "display_name": "Django Shell-Plus",
   "language": "python",
   "name": "django_extensions"
  },
  "language_info": {
   "codemirror_mode": {
    "name": "ipython",
    "version": 3
   },
   "file_extension": ".py",
   "mimetype": "text/x-python",
   "name": "python",
   "nbconvert_exporter": "python",
   "pygments_lexer": "ipython3",
   "version": "3.8.5"
  }
 },
 "nbformat": 4,
 "nbformat_minor": 4
}
