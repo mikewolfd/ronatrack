{
 "cells": [
  {
   "cell_type": "code",
   "execution_count": 2,
   "metadata": {},
   "outputs": [
    {
     "data": {
      "text/plain": [
       "<Survey: Survey object (1)>"
      ]
     },
     "execution_count": 2,
     "metadata": {},
     "output_type": "execute_result"
    }
   ],
   "source": [
    "o, _ = Survey.objects.get_or_create(name='Initial', version='0.1')\n",
    "o"
   ]
  },
  {
   "cell_type": "code",
   "execution_count": 1,
   "metadata": {},
   "outputs": [
    {
     "data": {
      "text/plain": [
       "<User: mikewolfd>"
      ]
     },
     "execution_count": 1,
     "metadata": {},
     "output_type": "execute_result"
    }
   ],
   "source": [
    "u, _ = User.objects.get_or_create(username='mikewolfd')\n",
    "u.set_password('temp')\n",
    "u.email = 'michael.f.deeb@gmail.com'\n",
    "u.is_superuser = True\n",
    "u.is_active = True\n",
    "u.is_staff = True\n",
    "u.save()\n",
    "u"
   ]
  },
  {
   "cell_type": "code",
   "execution_count": 4,
   "metadata": {},
   "outputs": [],
   "source": [
    "import pandas as pd\n",
    "df = pd.read_csv('./question-set4.csv')\n",
    "questions = list(df.to_dict('index').values())"
   ]
  },
  {
   "cell_type": "code",
   "execution_count": 5,
   "metadata": {},
   "outputs": [],
   "source": [
    "fieldmap = {'boolean': BooleanAnswer.objects.get_or_create()[0], \n",
    " 'integer': IntAnswer.objects.get_or_create()[0], \n",
    " 'choice': MultipleChoiceAnswer.objects.get_or_create()[0],\n",
    " 'multiple choice': MultipleChoiceAnswer.objects.get_or_create()[0]\n",
    "}"
   ]
  },
  {
   "cell_type": "code",
   "execution_count": 6,
   "metadata": {},
   "outputs": [
    {
     "name": "stdout",
     "output_type": "stream",
     "text": [
      "{'Questions': 'What zipcode do you live in?', 'field': 'integer', 'catageory': 'Circumstantial '}\n",
      "{'Questions': 'Have you had Covid-19 symptoms?', 'field': 'boolean', 'catageory': 'Circumstantial '}\n",
      "{'Questions': 'Have you ever gotten tested for COVID-19?', 'field': 'boolean', 'catageory': 'Circumstantial '}\n",
      "{'Questions': 'Do you have underlying medical complications?', 'field': 'boolean', 'catageory': 'Circumstantial '}\n",
      "{'Questions': 'How often do you wear a mask?', 'field': 'choice', 'catageory': 'Behavioral'}\n",
      "{'Questions': 'How do you get your groceries?', 'field': 'multiple choice', 'catageory': 'Behavioral'}\n",
      "{'Questions': 'Do you carry around hand sanitizer?', 'field': 'boolean', 'catageory': 'Behavioral'}\n",
      "{'Questions': 'How many people do you live with?', 'field': 'integer', 'catageory': 'Circumstantial '}\n",
      "{'Questions': 'How many people does your household come into close contact within a week?', 'field': 'integer', 'catageory': 'Circumstantial '}\n",
      "{'Questions': 'How do you feel about your household covid precautions?', 'field': 'choice', 'catageory': 'Perceptual'}\n",
      "{'Questions': 'Do you have to go into work?', 'field': 'boolean', 'catageory': 'Circumstantial '}\n",
      "{'Questions': 'How often have you left your house in the past 2 weeks?', 'field': 'integer', 'catageory': 'Circumstantial '}\n",
      "{'Questions': 'How safe do you feel when you leave your home?', 'field': 'choice', 'catageory': 'Perceptual'}\n"
     ]
    }
   ],
   "source": [
    "q13 = []\n",
    "for q in questions:\n",
    "    q13.append(Question.objects.get_or_create(text=q.get('Questions'), catageory=Catageory.objects.get_or_create(name=q.get('catageory'))[0], choices=fieldmap[q.get('field')]))\n",
    "    print(q)"
   ]
  },
  {
   "cell_type": "code",
   "execution_count": 7,
   "metadata": {},
   "outputs": [
    {
     "data": {
      "text/plain": [
       "[(<Question: Question object (1)>, False),\n",
       " (<Question: Question object (2)>, False),\n",
       " (<Question: Question object (3)>, False),\n",
       " (<Question: Question object (4)>, False),\n",
       " (<Question: Question object (5)>, False),\n",
       " (<Question: Question object (6)>, False),\n",
       " (<Question: Question object (7)>, False),\n",
       " (<Question: Question object (8)>, False),\n",
       " (<Question: Question object (9)>, False),\n",
       " (<Question: Question object (10)>, False),\n",
       " (<Question: Question object (11)>, False),\n",
       " (<Question: Question object (12)>, False),\n",
       " (<Question: Question object (13)>, False)]"
      ]
     },
     "execution_count": 7,
     "metadata": {},
     "output_type": "execute_result"
    }
   ],
   "source": [
    "q13"
   ]
  },
  {
   "cell_type": "code",
   "execution_count": 8,
   "metadata": {},
   "outputs": [
    {
     "data": {
      "text/plain": [
       "[(<SurveyItem: SurveyItem object (1)>, True),\n",
       " (<SurveyItem: SurveyItem object (2)>, True),\n",
       " (<SurveyItem: SurveyItem object (3)>, True),\n",
       " (<SurveyItem: SurveyItem object (4)>, True),\n",
       " (<SurveyItem: SurveyItem object (5)>, True),\n",
       " (<SurveyItem: SurveyItem object (6)>, True),\n",
       " (<SurveyItem: SurveyItem object (7)>, True),\n",
       " (<SurveyItem: SurveyItem object (8)>, True),\n",
       " (<SurveyItem: SurveyItem object (9)>, True),\n",
       " (<SurveyItem: SurveyItem object (10)>, True),\n",
       " (<SurveyItem: SurveyItem object (11)>, True),\n",
       " (<SurveyItem: SurveyItem object (12)>, True),\n",
       " (<SurveyItem: SurveyItem object (13)>, True)]"
      ]
     },
     "execution_count": 8,
     "metadata": {},
     "output_type": "execute_result"
    }
   ],
   "source": [
    "s13 = []\n",
    "for i in q13:\n",
    "    s13.append(SurveyItem.objects.get_or_create(survey=o, question=i[0]))\n",
    "s13"
   ]
  },
  {
   "cell_type": "code",
   "execution_count": 9,
   "metadata": {},
   "outputs": [
    {
     "data": {
      "text/plain": [
       "<QuerySet [<SurveyItem: SurveyItem object (1)>, <SurveyItem: SurveyItem object (2)>, <SurveyItem: SurveyItem object (3)>, <SurveyItem: SurveyItem object (4)>, <SurveyItem: SurveyItem object (5)>, <SurveyItem: SurveyItem object (6)>, <SurveyItem: SurveyItem object (7)>, <SurveyItem: SurveyItem object (8)>, <SurveyItem: SurveyItem object (9)>, <SurveyItem: SurveyItem object (10)>, <SurveyItem: SurveyItem object (11)>, <SurveyItem: SurveyItem object (12)>, <SurveyItem: SurveyItem object (13)>]>"
      ]
     },
     "execution_count": 9,
     "metadata": {},
     "output_type": "execute_result"
    }
   ],
   "source": [
    "o.surveyitem_set.all()"
   ]
  },
  {
   "cell_type": "code",
   "execution_count": null,
   "metadata": {},
   "outputs": [],
   "source": []
  }
 ],
 "metadata": {
  "kernelspec": {
   "display_name": "Django Shell-Plus",
   "language": "python",
   "name": "django_extensions"
  },
  "language_info": {
   "codemirror_mode": {
    "name": "ipython",
    "version": 3
   },
   "file_extension": ".py",
   "mimetype": "text/x-python",
   "name": "python",
   "nbconvert_exporter": "python",
   "pygments_lexer": "ipython3",
   "version": "3.8.5"
  }
 },
 "nbformat": 4,
 "nbformat_minor": 4
}
